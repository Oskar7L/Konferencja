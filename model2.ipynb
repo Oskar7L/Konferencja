{
 "cells": [
  {
   "cell_type": "code",
   "execution_count": 3,
   "id": "3f11783f",
   "metadata": {},
   "outputs": [
    {
     "name": "stdout",
     "output_type": "stream",
     "text": [
      "0:\tlearn: 0.6442913\ttotal: 6.02ms\tremaining: 6.02s\n",
      "200:\tlearn: 0.1007418\ttotal: 713ms\tremaining: 2.83s\n",
      "400:\tlearn: 0.0322701\ttotal: 1.39s\tremaining: 2.07s\n",
      "600:\tlearn: 0.0153415\ttotal: 2.08s\tremaining: 1.38s\n",
      "800:\tlearn: 0.0090979\ttotal: 2.81s\tremaining: 698ms\n",
      "999:\tlearn: 0.0073243\ttotal: 3.5s\tremaining: 0us\n",
      "Accuracy: 80.00%\n"
     ]
    }
   ],
   "source": [
    "import pandas as pd\n",
    "from catboost import CatBoostClassifier\n",
    "from sklearn.model_selection import train_test_split\n",
    "from sklearn.metrics import accuracy_score\n",
    "\n",
    "# Wczytanie danych\n",
    "data = pd.read_csv('transformed_data.csv')\n",
    "data_class = data.copy()\n",
    "\n",
    "# Przekształcanie 'LogReturn' na zmienną binarną\n",
    "data_class['LogReturn'] = (data['LogReturn'] > 0).astype(int)\n",
    "\n",
    "# Konwersja kolumny 'date' na daty\n",
    "data_class['date'] = pd.to_datetime(data_class['date'])\n",
    "\n",
    "# Ograniczenie danych do lat < 2019\n",
    "data_class = data_class.loc[data_class['date'].dt.year < 2019]\n",
    "\n",
    "# Przygotowanie zmiennych X i Y\n",
    "X = data_class.drop(['LogReturn', 'date'], axis=1)\n",
    "Y = data_class['LogReturn']\n",
    "\n",
    "# Podział na zestaw treningowy i testowy\n",
    "X_train, X_test, y_train, y_test = train_test_split(X, Y, test_size=0.2, random_state=42)\n",
    "\n",
    "# Inicjalizacja modelu CatBoost\n",
    "model = CatBoostClassifier(iterations=1000, \n",
    "                           learning_rate=0.1, \n",
    "                           depth=6, \n",
    "                           verbose=200)\n",
    "\n",
    "# Trenowanie modelu\n",
    "model.fit(X_train, y_train)\n",
    "\n",
    "# Predykcja\n",
    "y_pred = model.predict(X_test)\n",
    "\n",
    "# Ocena dokładności\n",
    "accuracy = accuracy_score(y_test, y_pred)\n",
    "print(f\"Accuracy: {accuracy * 100:.2f}%\")\n"
   ]
  },
  {
   "cell_type": "code",
   "execution_count": 4,
   "id": "01d8054f",
   "metadata": {},
   "outputs": [
    {
     "name": "stdout",
     "output_type": "stream",
     "text": [
      "0:\tlearn: 1.3270827\ttotal: 22ms\tremaining: 22s\n",
      "200:\tlearn: 0.4889346\ttotal: 1.97s\tremaining: 7.83s\n",
      "400:\tlearn: 0.2817987\ttotal: 3.88s\tremaining: 5.79s\n",
      "600:\tlearn: 0.1750214\ttotal: 5.92s\tremaining: 3.93s\n",
      "800:\tlearn: 0.1183106\ttotal: 7.85s\tremaining: 1.95s\n",
      "999:\tlearn: 0.0867750\ttotal: 9.77s\tremaining: 0us\n",
      "Accuracy: 57.73%\n"
     ]
    }
   ],
   "source": [
    "import pandas as pd\n",
    "from catboost import CatBoostClassifier\n",
    "from sklearn.model_selection import train_test_split\n",
    "from sklearn.metrics import accuracy_score\n",
    "\n",
    "# Wczytanie danych\n",
    "data = pd.read_csv('transformed_data.csv')\n",
    "data_class = data.copy()\n",
    "\n",
    "# Obliczanie kwartylów\n",
    "q1 = data['LogReturn'].quantile(0.25)  # 25. percentyl\n",
    "q2 = data['LogReturn'].quantile(0.50)  # 50. percentyl (mediana)\n",
    "q3 = data['LogReturn'].quantile(0.75)  # 75. percentyl\n",
    "\n",
    "# Przekształcanie 'LogReturn' na 4 klasy na podstawie kwartylów\n",
    "data_class['LogReturn'] = pd.cut(data['LogReturn'], bins=[-float('inf'), q1, q2, q3, float('inf')],\n",
    "                                  labels=[0, 1, 2, 3])\n",
    "\n",
    "# Konwersja kolumny 'date' na daty\n",
    "data_class['date'] = pd.to_datetime(data_class['date'])\n",
    "\n",
    "# Ograniczenie danych do lat < 2019\n",
    "data_class = data_class.loc[data_class['date'].dt.year < 2019]\n",
    "\n",
    "# Przygotowanie zmiennych X i Y\n",
    "X = data_class.drop(['LogReturn', 'date'], axis=1)\n",
    "Y = data_class['LogReturn']\n",
    "\n",
    "# Podział na zestaw treningowy i testowy\n",
    "X_train, X_test, y_train, y_test = train_test_split(X, Y, test_size=0.2, random_state=42)\n",
    "\n",
    "# Inicjalizacja modelu CatBoost\n",
    "model = CatBoostClassifier(iterations=1000, \n",
    "                           learning_rate=0.1, \n",
    "                           depth=6, \n",
    "                           verbose=200)\n",
    "\n",
    "# Trenowanie modelu\n",
    "model.fit(X_train, y_train)\n",
    "\n",
    "# Predykcja\n",
    "y_pred = model.predict(X_test)\n",
    "\n",
    "# Ocena dokładności\n",
    "accuracy = accuracy_score(y_test, y_pred)\n",
    "print(f\"Accuracy: {accuracy * 100:.2f}%\")\n"
   ]
  }
 ],
 "metadata": {
  "kernelspec": {
   "display_name": "Python 3",
   "language": "python",
   "name": "python3"
  },
  "language_info": {
   "codemirror_mode": {
    "name": "ipython",
    "version": 3
   },
   "file_extension": ".py",
   "mimetype": "text/x-python",
   "name": "python",
   "nbconvert_exporter": "python",
   "pygments_lexer": "ipython3",
   "version": "3.12.1"
  }
 },
 "nbformat": 4,
 "nbformat_minor": 5
}
