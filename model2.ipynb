{
 "cells": [
  {
   "cell_type": "code",
   "execution_count": 1,
   "id": "3f11783f",
   "metadata": {},
   "outputs": [
    {
     "name": "stdout",
     "output_type": "stream",
     "text": [
      "0:\tlearn: 0.6510616\ttotal: 49.2ms\tremaining: 49.2s\n",
      "200:\tlearn: 0.1153915\ttotal: 598ms\tremaining: 2.38s\n",
      "400:\tlearn: 0.0404678\ttotal: 1.16s\tremaining: 1.73s\n",
      "600:\tlearn: 0.0200569\ttotal: 1.7s\tremaining: 1.13s\n",
      "800:\tlearn: 0.0118731\ttotal: 2.22s\tremaining: 551ms\n",
      "999:\tlearn: 0.0084850\ttotal: 2.71s\tremaining: 0us\n",
      "Accuracy: 80.50%\n"
     ]
    }
   ],
   "source": [
    "import pandas as pd\n",
    "from catboost import CatBoostClassifier\n",
    "from sklearn.model_selection import train_test_split\n",
    "from sklearn.metrics import accuracy_score\n",
    "\n",
    "# Wczytanie danych\n",
    "data = pd.read_csv('transformed_data.csv')\n",
    "data_class = data.copy()\n",
    "\n",
    "# Przekształcanie 'LogReturn' na zmienną binarną\n",
    "data_class['LogReturn'] = (data['LogReturn'] > 0).astype(int)\n",
    "\n",
    "# Konwersja kolumny 'date' na daty\n",
    "data_class['date'] = pd.to_datetime(data_class['date'])\n",
    "\n",
    "# Ograniczenie danych do lat < 2019\n",
    "data_class = data_class.loc[data_class['date'].dt.year < 2019]\n",
    "\n",
    "# Przygotowanie zmiennych X i Y\n",
    "X = data_class.drop(['LogReturn', 'date'], axis=1)\n",
    "Y = data_class['LogReturn']\n",
    "\n",
    "# Podział na zestaw treningowy i testowy\n",
    "X_train, X_test, y_train, y_test = train_test_split(X, Y, test_size=0.2, random_state=42)\n",
    "\n",
    "# Inicjalizacja modelu CatBoost\n",
    "model = CatBoostClassifier(iterations=1000, \n",
    "                           learning_rate=0.1, \n",
    "                           depth=6, \n",
    "                           verbose=200)\n",
    "\n",
    "# Trenowanie modelu\n",
    "model.fit(X_train, y_train)\n",
    "\n",
    "# Predykcja\n",
    "y_pred = model.predict(X_test)\n",
    "\n",
    "# Ocena dokładności\n",
    "accuracy = accuracy_score(y_test, y_pred)\n",
    "print(f\"Accuracy: {accuracy * 100:.2f}%\")\n"
   ]
  },
  {
   "cell_type": "code",
   "execution_count": 2,
   "id": "01d8054f",
   "metadata": {},
   "outputs": [
    {
     "name": "stdout",
     "output_type": "stream",
     "text": [
      "0:\tlearn: 1.3359525\ttotal: 10.6ms\tremaining: 10.6s\n",
      "200:\tlearn: 0.5210547\ttotal: 1.36s\tremaining: 5.4s\n",
      "400:\tlearn: 0.3041352\ttotal: 2.67s\tremaining: 3.99s\n",
      "600:\tlearn: 0.1943586\ttotal: 4.06s\tremaining: 2.69s\n",
      "800:\tlearn: 0.1324197\ttotal: 5.41s\tremaining: 1.34s\n",
      "999:\tlearn: 0.0968196\ttotal: 6.76s\tremaining: 0us\n",
      "Accuracy: 59.41%\n"
     ]
    }
   ],
   "source": [
    "import pandas as pd\n",
    "from catboost import CatBoostClassifier\n",
    "from sklearn.model_selection import train_test_split\n",
    "from sklearn.metrics import accuracy_score\n",
    "\n",
    "# Wczytanie danych\n",
    "data = pd.read_csv('transformed_data.csv')\n",
    "data_class = data.copy()\n",
    "\n",
    "# Obliczanie kwartylów\n",
    "q1 = data['LogReturn'].quantile(0.25)  # 25. percentyl\n",
    "q2 = data['LogReturn'].quantile(0.50)  # 50. percentyl (mediana)\n",
    "q3 = data['LogReturn'].quantile(0.75)  # 75. percentyl\n",
    "\n",
    "# Przekształcanie 'LogReturn' na 4 klasy na podstawie kwartylów\n",
    "data_class['LogReturn'] = pd.cut(data['LogReturn'], bins=[-float('inf'), q1, q2, q3, float('inf')],\n",
    "                                  labels=[0, 1, 2, 3])\n",
    "\n",
    "# Konwersja kolumny 'date' na daty\n",
    "data_class['date'] = pd.to_datetime(data_class['date'])\n",
    "\n",
    "# Ograniczenie danych do lat < 2019\n",
    "data_class = data_class.loc[data_class['date'].dt.year < 2019]\n",
    "\n",
    "# Przygotowanie zmiennych X i Y\n",
    "X = data_class.drop(['LogReturn', 'date'], axis=1)\n",
    "Y = data_class['LogReturn']\n",
    "\n",
    "# Podział na zestaw treningowy i testowy\n",
    "X_train, X_test, y_train, y_test = train_test_split(X, Y, test_size=0.2, random_state=42)\n",
    "\n",
    "# Inicjalizacja modelu CatBoost\n",
    "model = CatBoostClassifier(iterations=1000, \n",
    "                           learning_rate=0.1, \n",
    "                           depth=6, \n",
    "                           verbose=200)\n",
    "\n",
    "# Trenowanie modelu\n",
    "model.fit(X_train, y_train)\n",
    "\n",
    "# Predykcja\n",
    "y_pred = model.predict(X_test)\n",
    "\n",
    "# Ocena dokładności\n",
    "accuracy = accuracy_score(y_test, y_pred)\n",
    "print(f\"Accuracy: {accuracy * 100:.2f}%\")\n"
   ]
  }
 ],
 "metadata": {
  "kernelspec": {
   "display_name": "Python 3",
   "language": "python",
   "name": "python3"
  },
  "language_info": {
   "codemirror_mode": {
    "name": "ipython",
    "version": 3
   },
   "file_extension": ".py",
   "mimetype": "text/x-python",
   "name": "python",
   "nbconvert_exporter": "python",
   "pygments_lexer": "ipython3",
   "version": "3.12.1"
  }
 },
 "nbformat": 4,
 "nbformat_minor": 5
}
