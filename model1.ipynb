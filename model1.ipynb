{
 "cells": [
  {
   "cell_type": "code",
   "execution_count": 26,
   "id": "e5997cd1",
   "metadata": {},
   "outputs": [],
   "source": [
    "import pandas as pd\n",
    "import numpy as np\n",
    "import matplotlib.pyplot as plt\n",
    "import seaborn as sns\n",
    "import xgboost as xgb\n",
    "from sklearn.model_selection import train_test_split\n",
    "from sklearn.metrics import accuracy_score"
   ]
  },
  {
   "cell_type": "markdown",
   "id": "f5442c9c",
   "metadata": {},
   "source": [
    "### to classification"
   ]
  },
  {
   "cell_type": "code",
   "execution_count": 5,
   "id": "5f4b1a4b",
   "metadata": {},
   "outputs": [],
   "source": [
    "data=pd.read_csv('transformed_data.csv')"
   ]
  },
  {
   "cell_type": "code",
   "execution_count": 7,
   "id": "31fcdea0",
   "metadata": {},
   "outputs": [
    {
     "data": {
      "text/plain": [
       "<Axes: xlabel='LogReturn', ylabel='Count'>"
      ]
     },
     "execution_count": 7,
     "metadata": {},
     "output_type": "execute_result"
    },
    {
     "data": {
      "image/png": "[encoded data removed]",
      "text/plain": [
       "<Figure size 1000x600 with 1 Axes>"
      ]
     },
     "metadata": {},
     "output_type": "display_data"
    }
   ],
   "source": [
    "plt.figure(figsize=(10, 6))\n",
    "sns.histplot(data['LogReturn'], bins=100, kde=True, color='skyblue')"
   ]
  },
  {
   "cell_type": "code",
   "execution_count": 8,
   "id": "0e62d194",
   "metadata": {},
   "outputs": [],
   "source": [
    "data_class=data.copy()\n",
    "data_class['LogReturn']=(data['LogReturn'] > 0).astype(int)"
   ]
  },
  {
   "cell_type": "markdown",
   "id": "8a6c0266",
   "metadata": {},
   "source": [
    "### Train test"
   ]
  },
  {
   "cell_type": "code",
   "execution_count": 15,
   "id": "0bf21c26",
   "metadata": {},
   "outputs": [],
   "source": [
    "data_class['date']=pd.to_datetime(data_class['date'])"
   ]
  },
  {
   "cell_type": "code",
   "execution_count": 21,
   "id": "f6a2bcda",
   "metadata": {},
   "outputs": [],
   "source": [
    "data_class = data_class.loc[data_class['date'].dt.year < 2019]"
   ]
  },
  {
   "cell_type": "code",
   "execution_count": 30,
   "id": "9f44c0f0",
   "metadata": {},
   "outputs": [],
   "source": [
    "X=data_class.drop(['LogReturn','date'],axis=1)\n",
    "Y=data_class['LogReturn']"
   ]
  },
  {
   "cell_type": "code",
   "execution_count": 31,
   "id": "86c5d921",
   "metadata": {},
   "outputs": [],
   "source": [
    "X_train, X_test, y_train, y_test = train_test_split(X, Y, test_size=0.2, random_state=42)"
   ]
  },
  {
   "cell_type": "code",
   "execution_count": 32,
   "id": "02dea783",
   "metadata": {},
   "outputs": [
    {
     "name": "stdout",
     "output_type": "stream",
     "text": [
      "Accuracy: 48.75%\n"
     ]
    }
   ],
   "source": [
    "model = xgb.XGBClassifier()\n",
    "model.fit(X_train, y_train)\n",
    "y_pred = model.predict(X_test)\n",
    "accuracy = accuracy_score(y_test, y_pred)\n",
    "print(f\"Accuracy: {accuracy * 100:.2f}%\")"
   ]
  },
  {
   "cell_type": "code",
   "execution_count": 33,
   "id": "432d3add",
   "metadata": {},
   "outputs": [
    {
     "data": {
      "text/plain": [
       "Index(['gdp', 'interest_rate', 'unemployment', 'cpi', 'pce',\n",
       "       'nonfarm_payrolls', 'corporate_profits', 'money_supply',\n",
       "       'consumer_confidence', 'housing_starts', 'permits',\n",
       "       'interest_rate_lag1', 'unemployment_lag1', 'cpi_lag1', 'pce_lag1',\n",
       "       'interest_rate_roll3_mean', 'interest_rate_roll3_std', 'cpi_roll3_mean',\n",
       "       'cpi_roll3_std', 'interest_x_cpi', 'unemp_x_gdp', 'month_sin',\n",
       "       'month_cos', 'dayofweek_sin', 'dayofweek_cos', 'dayofmonth_sin',\n",
       "       'dayofmonth_cos', 'dayofyear_sin', 'dayofyear_cos', 'LogReturn_lag1',\n",
       "       'LogReturn_lag2', 'LogReturn_lag3', 'LogReturn_lag4', 'LogReturn_lag5',\n",
       "       'LogReturn_lag6', 'LogReturn_lag7', 'LogReturn_lag8', 'LogReturn_lag9',\n",
       "       'LogReturn_lag10'],\n",
       "      dtype='object')"
      ]
     },
     "execution_count": 33,
     "metadata": {},
     "output_type": "execute_result"
    }
   ],
   "source": [
    "X.columns"
   ]
  },
  {
   "cell_type": "code",
   "execution_count": 36,
   "id": "8ad156c8",
   "metadata": {},
   "outputs": [
    {
     "name": "stdout",
     "output_type": "stream",
     "text": [
      "                     Feature  Importance\n",
      "7               money_supply    0.063959\n",
      "12         unemployment_lag1    0.052287\n",
      "2               unemployment    0.036398\n",
      "18             cpi_roll3_std    0.031166\n",
      "31            LogReturn_lag3    0.031025\n",
      "6          corporate_profits    0.030276\n",
      "8        consumer_confidence    0.030077\n",
      "30            LogReturn_lag2    0.029754\n",
      "34            LogReturn_lag6    0.029560\n",
      "16   interest_rate_roll3_std    0.028016\n",
      "25            dayofmonth_sin    0.027686\n",
      "36            LogReturn_lag8    0.027190\n",
      "29            LogReturn_lag1    0.027020\n",
      "32            LogReturn_lag4    0.026993\n",
      "33            LogReturn_lag5    0.026624\n",
      "27             dayofyear_sin    0.025667\n",
      "21                 month_sin    0.025472\n",
      "19            interest_x_cpi    0.025014\n",
      "35            LogReturn_lag7    0.024909\n",
      "37            LogReturn_lag9    0.024809\n",
      "11        interest_rate_lag1    0.023907\n",
      "23             dayofweek_sin    0.023795\n",
      "0                        gdp    0.023707\n",
      "26            dayofmonth_cos    0.023669\n",
      "9             housing_starts    0.023445\n",
      "1              interest_rate    0.023425\n",
      "3                        cpi    0.022752\n",
      "38           LogReturn_lag10    0.022674\n",
      "24             dayofweek_cos    0.022568\n",
      "28             dayofyear_cos    0.021833\n",
      "15  interest_rate_roll3_mean    0.020878\n",
      "10                   permits    0.020863\n",
      "20               unemp_x_gdp    0.019256\n",
      "22                 month_cos    0.018510\n",
      "4                        pce    0.017336\n",
      "14                  pce_lag1    0.017092\n",
      "13                  cpi_lag1    0.016080\n",
      "17            cpi_roll3_mean    0.014308\n",
      "5           nonfarm_payrolls    0.000000\n"
     ]
    }
   ],
   "source": [
    "# Feature importances\n",
    "importance = model.feature_importances_\n",
    "\n",
    "# Zamień na tabelkę\n",
    "feat_importance = pd.DataFrame({\n",
    "    'Feature': X_train.columns,\n",
    "    'Importance': importance\n",
    "})\n",
    "\n",
    "# Posortuj od najważniejszych\n",
    "feat_importance = feat_importance.sort_values(by='Importance', ascending=False)\n",
    "\n",
    "print(feat_importance)"
   ]
  },
  {
   "cell_type": "code",
   "execution_count": null,
   "id": "83997d79",
   "metadata": {},
   "outputs": [],
   "source": []
  }
 ],
 "metadata": {
  "kernelspec": {
   "display_name": "env",
   "language": "python",
   "name": "python3"
  },
  "language_info": {
   "codemirror_mode": {
    "name": "ipython",
    "version": 3
   },
   "file_extension": ".py",
   "mimetype": "text/x-python",
   "name": "python",
   "nbconvert_exporter": "python",
   "pygments_lexer": "ipython3",
   "version": "3.12.1"
  }
 },
 "nbformat": 4,
 "nbformat_minor": 5
}
