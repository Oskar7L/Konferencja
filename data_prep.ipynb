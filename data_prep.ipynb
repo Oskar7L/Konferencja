{
 "cells": [
  {
   "cell_type": "code",
   "execution_count": 48,
   "id": "ddfaa386",
   "metadata": {},
   "outputs": [],
   "source": [
    "import pandas as pd\n",
    "from fredapi import Fred\n",
    "import numpy as np\n",
    "import yfinance as yf"
   ]
  },
  {
   "cell_type": "code",
   "execution_count": 49,
   "id": "17d1aa42",
   "metadata": {},
   "outputs": [],
   "source": [
    "fred=Fred(api_key=\"709596a84b6fac52bb342d0f8ec0c168\")"
   ]
  },
  {
   "cell_type": "code",
   "execution_count": 50,
   "id": "d6db9590",
   "metadata": {},
   "outputs": [],
   "source": [
    "indicators = {\n",
    "    'gdp': 'GDPC1',                   # Real GDP\n",
    "    'interest_rate': 'FEDFUNDS',     # Fed Funds Rate\n",
    "    'unemployment': 'UNRATE',        # Unemployment Rate\n",
    "    'cpi': 'CPIAUCSL',                # Consumer Price Index for All Urban Consumers\n",
    "    'pce': 'PCEPI',                   # Personal Consumption Expenditures Price Index\n",
    "    'nonfarm_payrolls': 'PAYEMS',    # Nonfarm Payrolls\n",
    "    'corporate_profits': 'CP',       # Corporate Profits After Tax\n",
    "    'money_supply': 'M2SL',          # M2 Money Stock\n",
    "    'consumer_confidence': 'UMCSENT',# University of Michigan: Consumer Sentiment\n",
    "    'housing_starts': 'HOUST',       # Housing Starts\n",
    "    'permits': 'PERMIT'              # New Building Permits\n",
    "}"
   ]
  },
  {
   "cell_type": "code",
   "execution_count": 51,
   "id": "cfbc5645",
   "metadata": {},
   "outputs": [],
   "source": [
    "macro_data=pd.DataFrame({key: fred.get_series(value, observation_start='2010-01-01') for key, value in indicators.items()})"
   ]
  },
  {
   "cell_type": "code",
   "execution_count": 52,
   "id": "81a38961",
   "metadata": {},
   "outputs": [],
   "source": [
    "macro_data=macro_data.shift(1)"
   ]
  },
  {
   "cell_type": "code",
   "execution_count": 53,
   "id": "e381da57",
   "metadata": {},
   "outputs": [],
   "source": [
    "key_ind=['interest_rate', 'unemployment', 'cpi', 'pce']"
   ]
  },
  {
   "cell_type": "code",
   "execution_count": 54,
   "id": "10a81dcc",
   "metadata": {},
   "outputs": [],
   "source": [
    "for ind in key_ind:\n",
    "    macro_data[f\"{ind}_lag1\"]=macro_data[ind].shift(1)\n",
    "\n",
    "rolling_features = ['interest_rate', 'cpi']\n",
    "for col in rolling_features:\n",
    "    macro_data[f'{col}_roll3_mean'] = macro_data[col].rolling(window=3).mean()\n",
    "    macro_data[f'{col}_roll3_std'] = macro_data[col].rolling(window=3).std()"
   ]
  },
  {
   "cell_type": "code",
   "execution_count": 55,
   "id": "596d8d2b",
   "metadata": {},
   "outputs": [],
   "source": [
    "q_columns=['gdp','corporate_profits']\n",
    "\n",
    "macro_data[q_columns] = np.round(macro_data[q_columns].interpolate(method='linear'),0)"
   ]
  },
  {
   "cell_type": "code",
   "execution_count": null,
   "id": "e9402ff3",
   "metadata": {},
   "outputs": [
    {
     "name": "stderr",
     "output_type": "stream",
     "text": [
      "[*********************100%***********************]  1 of 1 completed\n"
     ]
    }
   ],
   "source": [
    "sp500 = yf.download(\"^GSPC\", start=\"2010-01-01\", end=\"2025-01-01\")\n",
    "\n",
    "# Obliczamy dzienne zwroty na bazie 'Close'\n",
    "sp500['Return'] = sp500['Close'].pct_change()\n",
    "\n",
    "\n",
    "sp500['LogReturn'] = np.log(sp500['Close'].shift(-1) / sp500['Close'])\n",
    "#sp500.dropna(inplace=True)"
   ]
  },
  {
   "cell_type": "code",
   "execution_count": 57,
   "id": "e7408e0c",
   "metadata": {},
   "outputs": [],
   "source": [
    "sp500.columns = ['_'.join(filter(None, col)).strip() for col in sp500.columns.values]"
   ]
  },
  {
   "cell_type": "code",
   "execution_count": 58,
   "id": "50a16b4a",
   "metadata": {},
   "outputs": [
    {
     "data": {
      "text/plain": [
       "Index(['Close_^GSPC', 'High_^GSPC', 'Low_^GSPC', 'Open_^GSPC', 'Volume_^GSPC',\n",
       "       'Return', 'LogReturn'],\n",
       "      dtype='object')"
      ]
     },
     "execution_count": 58,
     "metadata": {},
     "output_type": "execute_result"
    }
   ],
   "source": [
    "sp500.columns"
   ]
  },
  {
   "cell_type": "code",
   "execution_count": 42,
   "id": "defbfd8d",
   "metadata": {},
   "outputs": [],
   "source": [
    "\n",
    "sp500.drop(['Close_^GSPC','High_^GSPC','Low_^GSPC','Open_^GSPC','Volume_^GSPC','Return'],axis=1,inplace=True)"
   ]
  },
  {
   "cell_type": "code",
   "execution_count": 43,
   "id": "0f8446c8",
   "metadata": {},
   "outputs": [],
   "source": [
    "sp500['month'] = sp500.index.to_period('M')\n",
    "sp500['date'] = sp500.index\n",
    "macro_data['month'] = macro_data.index.to_period('M')\n"
   ]
  },
  {
   "cell_type": "code",
   "execution_count": 44,
   "id": "877fe816",
   "metadata": {},
   "outputs": [],
   "source": [
    "sp500 = sp500.merge(macro_data, on='month', how='left')\n"
   ]
  },
  {
   "cell_type": "code",
   "execution_count": 45,
   "id": "d110b449",
   "metadata": {},
   "outputs": [],
   "source": [
    "sp500['interest_x_cpi'] = sp500['interest_rate'] * sp500['cpi']\n",
    "sp500['unemp_x_gdp'] = sp500['unemployment'] * sp500['gdp']"
   ]
  },
  {
   "cell_type": "code",
   "execution_count": 46,
   "id": "5a46ae9b",
   "metadata": {},
   "outputs": [
    {
     "name": "stdout",
     "output_type": "stream",
     "text": [
      "<class 'pandas.core.frame.DataFrame'>\n",
      "RangeIndex: 3768 entries, 0 to 3767\n",
      "Data columns (total 24 columns):\n",
      " #   Column                    Non-Null Count  Dtype         \n",
      "---  ------                    --------------  -----         \n",
      " 0   LogReturn                 3768 non-null   float64       \n",
      " 1   month                     3768 non-null   period[M]     \n",
      " 2   date                      3768 non-null   datetime64[ns]\n",
      " 3   gdp                       3750 non-null   float64       \n",
      " 4   interest_rate             3750 non-null   float64       \n",
      " 5   unemployment              3750 non-null   float64       \n",
      " 6   cpi                       3750 non-null   float64       \n",
      " 7   pce                       3750 non-null   float64       \n",
      " 8   nonfarm_payrolls          3750 non-null   float64       \n",
      " 9   corporate_profits         3750 non-null   float64       \n",
      " 10  money_supply              3750 non-null   float64       \n",
      " 11  consumer_confidence       3750 non-null   float64       \n",
      " 12  housing_starts            3750 non-null   float64       \n",
      " 13  permits                   3750 non-null   float64       \n",
      " 14  interest_rate_lag1        3731 non-null   float64       \n",
      " 15  unemployment_lag1         3731 non-null   float64       \n",
      " 16  cpi_lag1                  3731 non-null   float64       \n",
      " 17  pce_lag1                  3731 non-null   float64       \n",
      " 18  interest_rate_roll3_mean  3708 non-null   float64       \n",
      " 19  interest_rate_roll3_std   3708 non-null   float64       \n",
      " 20  cpi_roll3_mean            3708 non-null   float64       \n",
      " 21  cpi_roll3_std             3708 non-null   float64       \n",
      " 22  interest_x_cpi            3750 non-null   float64       \n",
      " 23  unemp_x_gdp               3750 non-null   float64       \n",
      "dtypes: datetime64[ns](1), float64(22), period[M](1)\n",
      "memory usage: 706.6 KB\n"
     ]
    }
   ],
   "source": [
    "sp500.info()"
   ]
  },
  {
   "cell_type": "code",
   "execution_count": 47,
   "id": "3b2f7d28",
   "metadata": {},
   "outputs": [],
   "source": [
    "sp500.to_csv(\"data_preped.csv\",index=False)"
   ]
  },
  {
   "cell_type": "code",
   "execution_count": null,
   "id": "18d0e31f",
   "metadata": {},
   "outputs": [],
   "source": []
  }
 ],
 "metadata": {
  "kernelspec": {
   "display_name": "env",
   "language": "python",
   "name": "python3"
  },
  "language_info": {
   "codemirror_mode": {
    "name": "ipython",
    "version": 3
   },
   "file_extension": ".py",
   "mimetype": "text/x-python",
   "name": "python",
   "nbconvert_exporter": "python",
   "pygments_lexer": "ipython3",
   "version": "3.12.1"
  }
 },
 "nbformat": 4,
 "nbformat_minor": 5
}
